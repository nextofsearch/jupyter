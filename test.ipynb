{
 "cells": [
  {
   "cell_type": "code",
   "execution_count": 1,
   "metadata": {},
   "outputs": [
    {
     "name": "stdout",
     "output_type": "stream",
     "text": [
      "README.md  test.ipynb\r\n"
     ]
    }
   ],
   "source": [
    "!ls"
   ]
  },
  {
   "cell_type": "code",
   "execution_count": 2,
   "metadata": {},
   "outputs": [
    {
     "name": "stdout",
     "output_type": "stream",
     "text": [
      "total 0\r\n",
      "drwxr-xr-x 2 nbuser nbuser    0 Dec 19 09:06 \u001b[0m\u001b[01;34m.\u001b[0m/\r\n",
      "drwxr-xr-x 2 nbuser nbuser    0 Jan  1  1970 \u001b[01;34m..\u001b[0m/\r\n",
      "drwxr-xr-x 2 nbuser nbuser    0 Dec 19 09:06 \u001b[01;34m.git\u001b[0m/\r\n",
      "-rw-r--r-- 1 nbuser nbuser 1175 Dec 19 09:06 .gitignore\r\n",
      "drwxr-xr-x 2 nbuser nbuser    0 Dec 19 09:09 \u001b[01;34m.ipynb_checkpoints\u001b[0m/\r\n",
      "-rw-r--r-- 1 nbuser nbuser   11 Dec 19 09:06 README.md\r\n",
      "-rw-r--r-- 1 nbuser nbuser  832 Dec 19 09:06 test.ipynb\r\n"
     ]
    }
   ],
   "source": [
    "ls -al"
   ]
  },
  {
   "cell_type": "code",
   "execution_count": null,
   "metadata": {
    "collapsed": true
   },
   "outputs": [],
   "source": []
  }
 ],
 "metadata": {
  "kernelspec": {
   "display_name": "Python 2",
   "language": "python",
   "name": "python2"
  },
  "language_info": {
   "codemirror_mode": {
    "name": "ipython",
    "version": 2
   },
   "file_extension": ".py",
   "mimetype": "text/x-python",
   "name": "python",
   "nbconvert_exporter": "python",
   "pygments_lexer": "ipython2",
   "version": "2.7.14"
  }
 },
 "nbformat": 4,
 "nbformat_minor": 2
}
